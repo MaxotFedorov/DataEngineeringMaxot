{
 "cells": [
  {
   "cell_type": "code",
   "execution_count": 70,
   "id": "d461bed8",
   "metadata": {},
   "outputs": [],
   "source": [
    "#IMPORT \n",
    "import json\n",
    "import os"
   ]
  },
  {
   "cell_type": "code",
   "execution_count": 71,
   "id": "819ac284",
   "metadata": {},
   "outputs": [],
   "source": [
    "data = {\n",
    "    'students' : [\n",
    "        {\n",
    "            'name' : 'John Doe',\n",
    "            'class' : 'Marketing',\n",
    "            'age' : '19'\n",
    "        },\n",
    "        {\n",
    "            'name' : 'Jane Doe',\n",
    "            'class' : 'Software Engineering',\n",
    "            'age' : '20'\n",
    "        },\n",
    "        {\n",
    "            'name' : 'Don Joe',\n",
    "            'class' : 'Software Engineering',\n",
    "            'age' : '19'\n",
    "        }\n",
    "    ]\n",
    "}"
   ]
  },
  {
   "cell_type": "code",
   "execution_count": 72,
   "id": "707d53ab",
   "metadata": {},
   "outputs": [],
   "source": [
    "def writeToJson(path, data = {}, rewrite = 0):\n",
    "    try:\n",
    "        with open(path, 'x', encoding='utf-8') as f: #if file not exists\n",
    "            json.dump(json.dumps(data), f)\n",
    "    except FileExistsError:\n",
    "        if rewrite == 0:\n",
    "            with open(path, 'a', encoding='utf-8') as f: #if file exists\n",
    "                json.dump(json.dumps(data), f)\n",
    "        else:\n",
    "            with open(path, 'w', encoding='utf-8') as f: #if file exists\n",
    "                json.dump(json.dumps(data), f)\n",
    "    except ValueError:                               #if file is not json or json error\n",
    "        print('Invalid json: ' + path)"
   ]
  },
  {
   "cell_type": "code",
   "execution_count": 73,
   "id": "f600e1b9",
   "metadata": {
    "scrolled": true
   },
   "outputs": [],
   "source": [
    "writeToJson('E:\\\\programming\\DataEngineeringMaxot\\dataJSON.json', data, 1)"
   ]
  },
  {
   "cell_type": "code",
   "execution_count": 74,
   "id": "d51dbf45",
   "metadata": {},
   "outputs": [],
   "source": [
    "def openJson(path):\n",
    "    try:\n",
    "        with open(path, 'r', encoding='utf-8') as f:        \n",
    "            data = json.load(f)\n",
    "            print(data)\n",
    "    except FileNotFoundError:                        #if file not found\n",
    "        print('File Not Found')\n",
    "    except ValueError:                               #if file is not json\n",
    "        print('Invalid json: ' + path)\n",
    "        "
   ]
  },
  {
   "cell_type": "code",
   "execution_count": 75,
   "id": "c32baaf1",
   "metadata": {
    "scrolled": true
   },
   "outputs": [
    {
     "name": "stdout",
     "output_type": "stream",
     "text": [
      "{\"students\": [{\"name\": \"John Doe\", \"class\": \"Marketing\", \"age\": \"19\"}, {\"name\": \"Jane Doe\", \"class\": \"Software Engineering\", \"age\": \"20\"}, {\"name\": \"Don Joe\", \"class\": \"Software Engineering\", \"age\": \"19\"}]}\n"
     ]
    }
   ],
   "source": [
    "openJson('E:\\\\programming\\DataEngineeringMaxot\\dataJSON.json')"
   ]
  },
  {
   "cell_type": "code",
   "execution_count": null,
   "id": "b5cf25e2",
   "metadata": {},
   "outputs": [],
   "source": []
  }
 ],
 "metadata": {
  "kernelspec": {
   "display_name": "Python 3 (ipykernel)",
   "language": "python",
   "name": "python3"
  },
  "language_info": {
   "codemirror_mode": {
    "name": "ipython",
    "version": 3
   },
   "file_extension": ".py",
   "mimetype": "text/x-python",
   "name": "python",
   "nbconvert_exporter": "python",
   "pygments_lexer": "ipython3",
   "version": "3.9.7"
  }
 },
 "nbformat": 4,
 "nbformat_minor": 5
}
